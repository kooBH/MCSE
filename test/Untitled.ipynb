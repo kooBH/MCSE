{
 "cells": [
  {
   "cell_type": "code",
   "execution_count": 1,
   "id": "82e3640c-8a49-44c4-b848-9b79a08710e1",
   "metadata": {},
   "outputs": [],
   "source": [
    "import torch"
   ]
  },
  {
   "cell_type": "code",
   "execution_count": 7,
   "id": "31a1edc3-e45d-4e8c-a8f5-9d1d19d67761",
   "metadata": {},
   "outputs": [
    {
     "name": "stdout",
     "output_type": "stream",
     "text": [
      "torch.Size([2, 4, 5])\n",
      "torch.Size([2, 1, 4, 5])\n"
     ]
    }
   ],
   "source": [
    "x = torch.zeros(2,3,4,5)\n",
    "y = x[:,0]\n",
    "print(y.shape)\n",
    "y = torch.unsqueeze(y,dim=1)\n",
    "print(y.shape)"
   ]
  },
  {
   "cell_type": "code",
   "execution_count": null,
   "id": "73ce7bc0-d26f-4f5b-b0ab-eb10d11add64",
   "metadata": {},
   "outputs": [],
   "source": []
  }
 ],
 "metadata": {
  "kernelspec": {
   "display_name": "Python 3 (ipykernel)",
   "language": "python",
   "name": "python3"
  },
  "language_info": {
   "codemirror_mode": {
    "name": "ipython",
    "version": 3
   },
   "file_extension": ".py",
   "mimetype": "text/x-python",
   "name": "python",
   "nbconvert_exporter": "python",
   "pygments_lexer": "ipython3",
   "version": "3.8.10"
  }
 },
 "nbformat": 4,
 "nbformat_minor": 5
}
