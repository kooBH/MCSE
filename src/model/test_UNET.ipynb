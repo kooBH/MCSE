{
 "cells": [
  {
   "cell_type": "code",
   "execution_count": 1,
   "id": "cd44c577-21a0-42b5-9499-e5e168009c90",
   "metadata": {},
   "outputs": [],
   "source": [
    "path_data_sample = '/home/data/kbh/MCSE/CGMM_RLS_MPDR/train/SNR-5/noisy/011_011C0201.pt'"
   ]
  },
  {
   "cell_type": "code",
   "execution_count": 2,
   "id": "9139f210-914f-4a88-aea8-6a9b3562662a",
   "metadata": {},
   "outputs": [
    {
     "ename": "NameError",
     "evalue": "name 'torch' is not defined",
     "output_type": "error",
     "traceback": [
      "\u001b[0;31m---------------------------------------------------------------------------\u001b[0m",
      "\u001b[0;31mNameError\u001b[0m                                 Traceback (most recent call last)",
      "\u001b[0;32m/tmp/ipykernel_3741/21171361.py\u001b[0m in \u001b[0;36m<module>\u001b[0;34m\u001b[0m\n\u001b[0;32m----> 1\u001b[0;31m \u001b[0minput\u001b[0m \u001b[0;34m=\u001b[0m \u001b[0mtorch\u001b[0m\u001b[0;34m.\u001b[0m\u001b[0mload\u001b[0m\u001b[0;34m(\u001b[0m\u001b[0mpath_data_sample\u001b[0m\u001b[0;34m)\u001b[0m\u001b[0;34m\u001b[0m\u001b[0;34m\u001b[0m\u001b[0m\n\u001b[0m\u001b[1;32m      2\u001b[0m \u001b[0minput\u001b[0m \u001b[0;34m=\u001b[0m \u001b[0minput\u001b[0m\u001b[0;34m[\u001b[0m\u001b[0;34m:\u001b[0m\u001b[0;34m,\u001b[0m\u001b[0;34m:\u001b[0m\u001b[0;36m256\u001b[0m\u001b[0;34m,\u001b[0m\u001b[0;34m:\u001b[0m\u001b[0;34m]\u001b[0m\u001b[0;34m\u001b[0m\u001b[0;34m\u001b[0m\u001b[0m\n\u001b[1;32m      3\u001b[0m \u001b[0minput\u001b[0m \u001b[0;34m=\u001b[0m \u001b[0mtorch\u001b[0m\u001b[0;34m.\u001b[0m\u001b[0msqrt\u001b[0m\u001b[0;34m(\u001b[0m\u001b[0minput\u001b[0m\u001b[0;34m[\u001b[0m\u001b[0;34m:\u001b[0m\u001b[0;34m,\u001b[0m\u001b[0;34m:\u001b[0m\u001b[0;34m,\u001b[0m\u001b[0;36m0\u001b[0m\u001b[0;34m]\u001b[0m\u001b[0;34m**\u001b[0m\u001b[0;36m2\u001b[0m \u001b[0;34m+\u001b[0m \u001b[0minput\u001b[0m\u001b[0;34m[\u001b[0m\u001b[0;34m:\u001b[0m\u001b[0;34m,\u001b[0m\u001b[0;34m:\u001b[0m\u001b[0;34m,\u001b[0m\u001b[0;36m1\u001b[0m\u001b[0;34m]\u001b[0m\u001b[0;34m**\u001b[0m\u001b[0;36m2\u001b[0m\u001b[0;34m)\u001b[0m\u001b[0;34m\u001b[0m\u001b[0;34m\u001b[0m\u001b[0m\n\u001b[1;32m      4\u001b[0m \u001b[0;31m# batch\u001b[0m\u001b[0;34m\u001b[0m\u001b[0;34m\u001b[0m\u001b[0;34m\u001b[0m\u001b[0m\n\u001b[1;32m      5\u001b[0m \u001b[0minput\u001b[0m \u001b[0;34m=\u001b[0m \u001b[0mtorch\u001b[0m\u001b[0;34m.\u001b[0m\u001b[0munsqueeze\u001b[0m\u001b[0;34m(\u001b[0m\u001b[0minput\u001b[0m\u001b[0;34m,\u001b[0m\u001b[0mdim\u001b[0m\u001b[0;34m=\u001b[0m\u001b[0;36m0\u001b[0m\u001b[0;34m)\u001b[0m\u001b[0;34m\u001b[0m\u001b[0;34m\u001b[0m\u001b[0m\n",
      "\u001b[0;31mNameError\u001b[0m: name 'torch' is not defined"
     ]
    }
   ],
   "source": [
    "input = torch.load(path_data_sample)\n",
    "input = input[:,:256,:]\n",
    "input = torch.sqrt(input[:,:,0]**2 + input[:,:,1]**2) \n",
    "# batch\n",
    "input = torch.unsqueeze(input,dim=0)\n",
    "# channel\n",
    "input = torch.unsqueeze(input,dim=0)\n",
    "print(input.shape)\n"
   ]
  },
  {
   "cell_type": "code",
   "execution_count": null,
   "id": "3368f609-19ff-4441-9580-4f1a24ba8d5d",
   "metadata": {},
   "outputs": [],
   "source": [
    "model = UnetBelz()"
   ]
  },
  {
   "cell_type": "code",
   "execution_count": null,
   "id": "5b839856-bda3-49e5-a1e4-4ed57a4c6aa2",
   "metadata": {},
   "outputs": [],
   "source": [
    "output = model(input)\n",
    "print(output.shape)"
   ]
  },
  {
   "cell_type": "markdown",
   "id": "ccb74ef2-d518-4ebb-bb6c-1295b0124573",
   "metadata": {},
   "source": [
    "## UNET20"
   ]
  },
  {
   "cell_type": "code",
   "execution_count": 7,
   "id": "9a96f42f-f138-42d0-8efa-cf486697a12f",
   "metadata": {},
   "outputs": [],
   "source": [
    "import os,sys\n",
    "sys.path.append('..')\n",
    "from Unet20 import Unet20\n",
    "import torch\n",
    "import torch.nn\n",
    "from utils.hparams import HParam\n",
    "from utils.TCN import TCN"
   ]
  },
  {
   "cell_type": "code",
   "execution_count": 2,
   "id": "0de38f4c-2c8d-455b-a90e-96484198287b",
   "metadata": {},
   "outputs": [],
   "source": [
    "hp = HParam(\"../../config/UNET/UNET_t45.yaml\")"
   ]
  },
  {
   "cell_type": "code",
   "execution_count": 3,
   "id": "1856ee0b-d0a7-4256-ae2e-3f2d8c540c6c",
   "metadata": {},
   "outputs": [],
   "source": [
    "m = Unet20(hp)"
   ]
  },
  {
   "cell_type": "code",
   "execution_count": 4,
   "id": "5e80a223-d0f2-4569-8859-dcf35ef7c80c",
   "metadata": {},
   "outputs": [],
   "source": [
    "# [B,C,F,T]\n",
    "x = torch.rand(1,3,513,80)"
   ]
  },
  {
   "cell_type": "code",
   "execution_count": 5,
   "id": "beb3dbbf-83d0-4512-9c21-8fccea9ed0d0",
   "metadata": {
    "tags": []
   },
   "outputs": [],
   "source": [
    "y = m(x)"
   ]
  },
  {
   "cell_type": "code",
   "execution_count": 6,
   "id": "485e4b83-23e6-407c-895a-849331d49ddd",
   "metadata": {},
   "outputs": [
    {
     "data": {
      "text/plain": [
       "torch.Size([1, 513, 80])"
      ]
     },
     "execution_count": 6,
     "metadata": {},
     "output_type": "execute_result"
    }
   ],
   "source": [
    "y.shape"
   ]
  },
  {
   "cell_type": "markdown",
   "id": "f7d564cf-fa89-4b3c-a4bd-292c725debab",
   "metadata": {},
   "source": [
    "## nn.Identity()"
   ]
  },
  {
   "cell_type": "code",
   "execution_count": 14,
   "id": "c96a1e97-42ea-47a6-be80-0eece2a55b1b",
   "metadata": {},
   "outputs": [],
   "source": [
    "n = torch.nn.Identity()"
   ]
  },
  {
   "cell_type": "code",
   "execution_count": 15,
   "id": "2fcb24e6-a739-4274-9196-07c07efb3d37",
   "metadata": {},
   "outputs": [
    {
     "name": "stdout",
     "output_type": "stream",
     "text": [
      "tensor([[[0.1688, 0.3449, 0.6036],\n",
      "         [0.6594, 0.2803, 0.3013]]])\n",
      "tensor([[[0.1688, 0.3449, 0.6036],\n",
      "         [0.6594, 0.2803, 0.3013]]])\n"
     ]
    }
   ],
   "source": [
    "t = torch.rand(1,2,3)\n",
    "print(t)\n",
    "tt = n(t)\n",
    "print(tt)"
   ]
  },
  {
   "cell_type": "markdown",
   "id": "41e10753-7c75-4be7-a137-305f02db0438",
   "metadata": {},
   "source": [
    "## nn.GRU()"
   ]
  },
  {
   "cell_type": "code",
   "execution_count": null,
   "id": "3311f6e6-7d0c-4be3-814a-9d90a3a30554",
   "metadata": {},
   "outputs": [],
   "source": [
    "g = nn.GRU()"
   ]
  },
  {
   "cell_type": "markdown",
   "id": "76bfc3c2-a59c-4dcf-ab57-bb0ace56e61e",
   "metadata": {},
   "source": [
    "## TCN"
   ]
  },
  {
   "cell_type": "code",
   "execution_count": 10,
   "id": "df69864c-a3c7-4b6f-b655-98b1e87c403d",
   "metadata": {},
   "outputs": [
    {
     "name": "stdout",
     "output_type": "stream",
     "text": [
      "torch.Size([1, 24, 5])\n"
     ]
    }
   ],
   "source": [
    "x = torch.rand(1,30,5)\n",
    "tcn = TCN(30,[8,12,24])\n",
    "y = tcn(x)\n",
    "print(y.shape)"
   ]
  }
 ],
 "metadata": {
  "kernelspec": {
   "display_name": "Python 3 (ipykernel)",
   "language": "python",
   "name": "python3"
  },
  "language_info": {
   "codemirror_mode": {
    "name": "ipython",
    "version": 3
   },
   "file_extension": ".py",
   "mimetype": "text/x-python",
   "name": "python",
   "nbconvert_exporter": "python",
   "pygments_lexer": "ipython3",
   "version": "3.8.10"
  }
 },
 "nbformat": 4,
 "nbformat_minor": 5
}
