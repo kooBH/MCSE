{
 "cells": [
  {
   "cell_type": "code",
   "execution_count": 1,
   "id": "fbc98831-ddf2-4b1b-a4af-203499e15e96",
   "metadata": {},
   "outputs": [],
   "source": [
    "from Unet_vbelz import UnetBelz\n",
    "import torch"
   ]
  },
  {
   "cell_type": "code",
   "execution_count": 2,
   "id": "cd44c577-21a0-42b5-9499-e5e168009c90",
   "metadata": {},
   "outputs": [],
   "source": [
    "path_data_sample = '/home/data/kbh/MCSE/CGMM_RLS_MPDR/train/SNR-5/noisy/011_011C0201.pt'"
   ]
  },
  {
   "cell_type": "code",
   "execution_count": 3,
   "id": "9139f210-914f-4a88-aea8-6a9b3562662a",
   "metadata": {},
   "outputs": [
    {
     "name": "stdout",
     "output_type": "stream",
     "text": [
      "torch.Size([1, 1, 513, 256])\n"
     ]
    }
   ],
   "source": [
    "input = torch.load(path_data_sample)\n",
    "input = input[:,:256,:]\n",
    "input = torch.sqrt(input[:,:,0]**2 + input[:,:,1]**2) \n",
    "# batch\n",
    "input = torch.unsqueeze(input,dim=0)\n",
    "# channel\n",
    "input = torch.unsqueeze(input,dim=0)\n",
    "print(input.shape)\n"
   ]
  },
  {
   "cell_type": "code",
   "execution_count": 4,
   "id": "3368f609-19ff-4441-9580-4f1a24ba8d5d",
   "metadata": {},
   "outputs": [],
   "source": [
    "model = UnetBelz()"
   ]
  },
  {
   "cell_type": "code",
   "execution_count": 5,
   "id": "5b839856-bda3-49e5-a1e4-4ed57a4c6aa2",
   "metadata": {},
   "outputs": [
    {
     "name": "stdout",
     "output_type": "stream",
     "text": [
      "x : torch.Size([1, 1, 513, 256])\n",
      "x_1 : torch.Size([1, 16, 256, 128])\n",
      "x_2 : torch.Size([1, 32, 128, 64])\n",
      "x_3 : torch.Size([1, 64, 64, 32])\n",
      "x_4 : torch.Size([1, 128, 32, 16])\n",
      "x_5 : torch.Size([1, 256, 16, 8])\n",
      "--- bottle neck ----\n",
      "x_6 : torch.Size([1, 128, 33, 17])\n",
      "x_7 : torch.Size([1, 64, 67, 35])\n",
      "x_8 : torch.Size([1, 32, 135, 71])\n",
      "x_9 : torch.Size([1, 16, 271, 143])\n",
      "torch.Size([1, 1, 271, 143])\n"
     ]
    },
    {
     "name": "stderr",
     "output_type": "stream",
     "text": [
      "/home/kbh/.conda/envs/dnn/lib/python3.8/site-packages/torch/nn/functional.py:718: UserWarning: Named tensors and all their associated APIs are an experimental feature and subject to change. Please do not use them for anything important until they are released as stable. (Triggered internally at  /pytorch/c10/core/TensorImpl.h:1156.)\n",
      "  return torch.max_pool2d(input, kernel_size, stride, padding, dilation, ceil_mode)\n"
     ]
    }
   ],
   "source": [
    "output = model(input)\n",
    "print(output.shape)"
   ]
  },
  {
   "cell_type": "code",
   "execution_count": null,
   "id": "ab183405-a127-48ad-a354-739939c67857",
   "metadata": {},
   "outputs": [],
   "source": []
  }
 ],
 "metadata": {
  "kernelspec": {
   "display_name": "Python 3 (ipykernel)",
   "language": "python",
   "name": "python3"
  },
  "language_info": {
   "codemirror_mode": {
    "name": "ipython",
    "version": 3
   },
   "file_extension": ".py",
   "mimetype": "text/x-python",
   "name": "python",
   "nbconvert_exporter": "python",
   "pygments_lexer": "ipython3",
   "version": "3.8.10"
  }
 },
 "nbformat": 4,
 "nbformat_minor": 5
}
