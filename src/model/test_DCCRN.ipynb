{
 "cells": [
  {
   "cell_type": "code",
   "execution_count": 1,
   "id": "9bf6f544-2cb0-4a37-84c0-ad15521cb9eb",
   "metadata": {},
   "outputs": [],
   "source": [
    "import torch\n",
    "from DCCRN import DCCRN, ComplexLSTM \n",
    "import librosa\n",
    "import numpy as np"
   ]
  },
  {
   "cell_type": "code",
   "execution_count": 2,
   "id": "3cd8c26f-58a0-4cc1-9c0a-31ccf9157e80",
   "metadata": {},
   "outputs": [],
   "source": [
    "def version_validation(current, required):\n",
    "    c = current.split('.')\n",
    "    r = required.split('.')\n",
    "    for  i in range(len(r)) : \n",
    "        if c[i] < r[i] :\n",
    "            return False\n",
    "    return True"
   ]
  },
  {
   "cell_type": "markdown",
   "id": "4a68661a-fb0d-4982-9151-e0b18601e3b1",
   "metadata": {},
   "source": [
    "## Data"
   ]
  },
  {
   "cell_type": "code",
   "execution_count": 3,
   "id": "a21516e5-2b87-483e-a90e-f55268abf140",
   "metadata": {},
   "outputs": [],
   "source": [
    "root = '/home/data/kbh/MCSE/CGMM_RLS_MPDR/train/SNR5/'\n",
    "id = '011_011C0201.pt'\n",
    "noisy_path = root + 'noisy/' + id \n",
    "estim_path = root + 'estimated_speech/' + id \n",
    "noise_path = root + 'estimated_noise/' + id"
   ]
  },
  {
   "cell_type": "markdown",
   "id": "c787d720-9423-4903-8888-c37ff9fdd213",
   "metadata": {},
   "source": [
    "# Param"
   ]
  },
  {
   "cell_type": "code",
   "execution_count": 4,
   "id": "5d48d5f4-ad6c-4022-a20b-8ca10f919344",
   "metadata": {},
   "outputs": [],
   "source": [
    "T = 80"
   ]
  },
  {
   "cell_type": "markdown",
   "id": "d27f1a62-21ba-4345-a43d-9d62336517c9",
   "metadata": {},
   "source": [
    "# Load"
   ]
  },
  {
   "cell_type": "code",
   "execution_count": 5,
   "id": "c891c5d7-d604-44d5-a4a4-3b0023ff50b2",
   "metadata": {},
   "outputs": [
    {
     "name": "stdout",
     "output_type": "stream",
     "text": [
      "torch.Size([1, 513, 80, 2])\n",
      "torch.Size([1, 513, 80, 2])\n",
      "torch.Size([1, 513, 80, 2])\n",
      "torch.Size([1, 3, 513, 80, 2])\n"
     ]
    }
   ],
   "source": [
    "noisy = torch.load(noisy_path)\n",
    "estim = torch.load(estim_path)\n",
    "noise = torch.load(noise_path)\n",
    "\n",
    "idx_s = np.random.randint(noisy.shape[1]-6)\n",
    "\n",
    "noisy = noisy[:,idx_s:idx_s+T,:]\n",
    "estim = estim[:,idx_s:idx_s+T,:]\n",
    "noise = noise[:,idx_s:idx_s+T,:]\n",
    "\n",
    "noisy = torch.unsqueeze(noisy,0)\n",
    "estim = torch.unsqueeze(estim,0)\n",
    "noise = torch.unsqueeze(noise,0)\n",
    "\n",
    "print(noisy.shape)\n",
    "print(estim.shape)\n",
    "print(noise.shape)\n",
    "\n",
    "input = torch.stack([noisy,estim,noise],1)\n",
    "print(input.shape)"
   ]
  },
  {
   "cell_type": "markdown",
   "id": "df5d2707-a4e9-43ed-8516-f7f76c7531a9",
   "metadata": {},
   "source": [
    "# Model"
   ]
  },
  {
   "cell_type": "markdown",
   "id": "5e05b7c6-b130-400a-b006-57e2f1b448da",
   "metadata": {},
   "source": [
    "How shape would be after CNN encoding? "
   ]
  },
  {
   "cell_type": "code",
   "execution_count": 6,
   "id": "a4c6909b-a4ef-43c8-921f-84eec1ba4dd4",
   "metadata": {},
   "outputs": [],
   "source": [
    "#model = DCCRN()"
   ]
  },
  {
   "cell_type": "code",
   "execution_count": 7,
   "id": "065e8b69-8e2b-44c8-990e-dbb6b07a9767",
   "metadata": {},
   "outputs": [],
   "source": [
    "#y = model(input)"
   ]
  },
  {
   "cell_type": "code",
   "execution_count": 8,
   "id": "a3ff2145-e075-42ed-adbc-ebdcf7aeb161",
   "metadata": {},
   "outputs": [],
   "source": [
    "clstm_1 = ComplexLSTM(513,1024,513, bidirectional=True)\n",
    "clstm_2 = ComplexLSTM(513,1024,513, bidirectional=False)"
   ]
  },
  {
   "cell_type": "code",
   "execution_count": 9,
   "id": "b15d02ca-7ff1-4ecb-bf94-35fa791698f2",
   "metadata": {},
   "outputs": [
    {
     "name": "stdout",
     "output_type": "stream",
     "text": [
      "torch.Size([1, 1, 513, 80, 2])\n",
      "torch.Size([1, 513, 80, 2])\n",
      "torch.Size([1, 80, 513, 2])\n",
      "CLSTM\n",
      "torch.Size([1, 80, 1026])\n"
     ]
    },
    {
     "ename": "NameError",
     "evalue": "name 'out_rael' is not defined",
     "output_type": "error",
     "traceback": [
      "\u001b[0;31m---------------------------------------------------------------------------\u001b[0m",
      "\u001b[0;31mNameError\u001b[0m                                 Traceback (most recent call last)",
      "\u001b[0;32m<ipython-input-9-c9874ba9733d>\u001b[0m in \u001b[0;36m<module>\u001b[0;34m\u001b[0m\n\u001b[1;32m      6\u001b[0m \u001b[0mprint\u001b[0m\u001b[0;34m(\u001b[0m\u001b[0mflat_noisy\u001b[0m\u001b[0;34m.\u001b[0m\u001b[0mshape\u001b[0m\u001b[0;34m)\u001b[0m\u001b[0;34m\u001b[0m\u001b[0;34m\u001b[0m\u001b[0m\n\u001b[1;32m      7\u001b[0m \u001b[0;34m\u001b[0m\u001b[0m\n\u001b[0;32m----> 8\u001b[0;31m \u001b[0my\u001b[0m \u001b[0;34m=\u001b[0m \u001b[0mclstm_1\u001b[0m\u001b[0;34m(\u001b[0m\u001b[0mflat_noisy\u001b[0m\u001b[0;34m)\u001b[0m\u001b[0;34m\u001b[0m\u001b[0;34m\u001b[0m\u001b[0m\n\u001b[0m\u001b[1;32m      9\u001b[0m \u001b[0mprint\u001b[0m\u001b[0;34m(\u001b[0m\u001b[0my\u001b[0m\u001b[0;34m.\u001b[0m\u001b[0mshape\u001b[0m\u001b[0;34m)\u001b[0m\u001b[0;34m\u001b[0m\u001b[0;34m\u001b[0m\u001b[0m\n",
      "\u001b[0;32m~/anaconda3/envs/dnn/lib/python3.8/site-packages/torch/nn/modules/module.py\u001b[0m in \u001b[0;36m_call_impl\u001b[0;34m(self, *input, **kwargs)\u001b[0m\n\u001b[1;32m    887\u001b[0m             \u001b[0mresult\u001b[0m \u001b[0;34m=\u001b[0m \u001b[0mself\u001b[0m\u001b[0;34m.\u001b[0m\u001b[0m_slow_forward\u001b[0m\u001b[0;34m(\u001b[0m\u001b[0;34m*\u001b[0m\u001b[0minput\u001b[0m\u001b[0;34m,\u001b[0m \u001b[0;34m**\u001b[0m\u001b[0mkwargs\u001b[0m\u001b[0;34m)\u001b[0m\u001b[0;34m\u001b[0m\u001b[0;34m\u001b[0m\u001b[0m\n\u001b[1;32m    888\u001b[0m         \u001b[0;32melse\u001b[0m\u001b[0;34m:\u001b[0m\u001b[0;34m\u001b[0m\u001b[0;34m\u001b[0m\u001b[0m\n\u001b[0;32m--> 889\u001b[0;31m             \u001b[0mresult\u001b[0m \u001b[0;34m=\u001b[0m \u001b[0mself\u001b[0m\u001b[0;34m.\u001b[0m\u001b[0mforward\u001b[0m\u001b[0;34m(\u001b[0m\u001b[0;34m*\u001b[0m\u001b[0minput\u001b[0m\u001b[0;34m,\u001b[0m \u001b[0;34m**\u001b[0m\u001b[0mkwargs\u001b[0m\u001b[0;34m)\u001b[0m\u001b[0;34m\u001b[0m\u001b[0;34m\u001b[0m\u001b[0m\n\u001b[0m\u001b[1;32m    890\u001b[0m         for hook in itertools.chain(\n\u001b[1;32m    891\u001b[0m                 \u001b[0m_global_forward_hooks\u001b[0m\u001b[0;34m.\u001b[0m\u001b[0mvalues\u001b[0m\u001b[0;34m(\u001b[0m\u001b[0;34m)\u001b[0m\u001b[0;34m,\u001b[0m\u001b[0;34m\u001b[0m\u001b[0;34m\u001b[0m\u001b[0m\n",
      "\u001b[0;32m~/shared_work/MCSE/src/model/DCCRN.py\u001b[0m in \u001b[0;36mforward\u001b[0;34m(self, x)\u001b[0m\n\u001b[1;32m     53\u001b[0m         \u001b[0mout_imag\u001b[0m \u001b[0;34m=\u001b[0m \u001b[0mi2r\u001b[0m \u001b[0;34m+\u001b[0m \u001b[0mr2i\u001b[0m\u001b[0;34m\u001b[0m\u001b[0;34m\u001b[0m\u001b[0m\n\u001b[1;32m     54\u001b[0m \u001b[0;34m\u001b[0m\u001b[0m\n\u001b[0;32m---> 55\u001b[0;31m         \u001b[0mprint\u001b[0m\u001b[0;34m(\u001b[0m\u001b[0mout_rael\u001b[0m\u001b[0;34m.\u001b[0m\u001b[0mshape\u001b[0m\u001b[0;34m)\u001b[0m\u001b[0;34m\u001b[0m\u001b[0;34m\u001b[0m\u001b[0m\n\u001b[0m\u001b[1;32m     56\u001b[0m \u001b[0;34m\u001b[0m\u001b[0m\n\u001b[1;32m     57\u001b[0m         \u001b[0;32mreturn\u001b[0m \u001b[0mtorch\u001b[0m\u001b[0;34m.\u001b[0m\u001b[0mstack\u001b[0m\u001b[0;34m(\u001b[0m\u001b[0;34m(\u001b[0m\u001b[0mout_real\u001b[0m\u001b[0;34m,\u001b[0m \u001b[0mout_imag\u001b[0m\u001b[0;34m)\u001b[0m\u001b[0;34m,\u001b[0m\u001b[0;34m-\u001b[0m\u001b[0;36m1\u001b[0m\u001b[0;34m)\u001b[0m\u001b[0;34m\u001b[0m\u001b[0;34m\u001b[0m\u001b[0m\n",
      "\u001b[0;31mNameError\u001b[0m: name 'out_rael' is not defined"
     ]
    }
   ],
   "source": [
    "flat_noisy = torch.unsqueeze(noisy,1)\n",
    "print(flat_noisy.shape)\n",
    "flat_noisy = torch.reshape(flat_noisy,(flat_noisy.shape[0], flat_noisy.shape[1]*flat_noisy.shape[2], flat_noisy.shape[3], flat_noisy.shape[4]))\n",
    "print(flat_noisy.shape)\n",
    "flat_noisy = flat_noisy.permute(0,2,1,3)\n",
    "print(flat_noisy.shape)\n",
    "\n",
    "y = clstm_1(flat_noisy)\n",
    "print(y.shape)"
   ]
  },
  {
   "cell_type": "code",
   "execution_count": null,
   "id": "950d0b58-d03a-4b94-8539-ce03111bea9c",
   "metadata": {},
   "outputs": [],
   "source": [
    "v = torch.__version__"
   ]
  },
  {
   "cell_type": "code",
   "execution_count": null,
   "id": "f8a0d91e-8854-4f4a-a66e-9c1692d2d99e",
   "metadata": {},
   "outputs": [],
   "source": [
    "version_validation(v,'1.8.0')"
   ]
  },
  {
   "cell_type": "code",
   "execution_count": null,
   "id": "3512a6b7-b8e4-45fd-8e48-69ca5c2d4eb3",
   "metadata": {},
   "outputs": [],
   "source": [
    "pwd"
   ]
  },
  {
   "cell_type": "code",
   "execution_count": null,
   "id": "22a27236-d5f5-4adb-84ad-9a5af47fe3ef",
   "metadata": {},
   "outputs": [],
   "source": [
    "t =torch.rand(2,3,1,4)\n",
    "print(t)\n",
    "print(t.shape)\n",
    "tt =torch.reshape(t,(t.shape[3],t.shape[1]*t.shape[2]*t.shape[0]))\n",
    "print(tt)\n",
    "print(tt.shape)"
   ]
  },
  {
   "cell_type": "code",
   "execution_count": null,
   "id": "bf4b5381-3bb5-454f-8c87-5a2a3d790947",
   "metadata": {},
   "outputs": [],
   "source": []
  }
 ],
 "metadata": {
  "kernelspec": {
   "display_name": "Python 3",
   "language": "python",
   "name": "python3"
  },
  "language_info": {
   "codemirror_mode": {
    "name": "ipython",
    "version": 3
   },
   "file_extension": ".py",
   "mimetype": "text/x-python",
   "name": "python",
   "nbconvert_exporter": "python",
   "pygments_lexer": "ipython3",
   "version": "3.8.0"
  }
 },
 "nbformat": 4,
 "nbformat_minor": 5
}
