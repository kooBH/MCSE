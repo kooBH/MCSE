{
 "cells": [
  {
   "cell_type": "code",
   "execution_count": 20,
   "id": "b6b9db1d-b638-4d9d-925a-7f6de6cdd770",
   "metadata": {},
   "outputs": [],
   "source": [
    "import torch\n",
    "from model.DCUNET import DCUNET\n",
    "import librosa\n",
    "import numpy as np\n",
    "from utils.SISDR import SDR"
   ]
  },
  {
   "cell_type": "markdown",
   "id": "a8eccb59-45c4-487b-bed4-ee3ede8bbe52",
   "metadata": {},
   "source": [
    "# Data"
   ]
  },
  {
   "cell_type": "code",
   "execution_count": 9,
   "id": "4a0c75fa-fe19-4814-aab4-25cfec3a74b5",
   "metadata": {},
   "outputs": [],
   "source": [
    "root = '/home/data/kbh/MCSE/CGMM_RLS_MPDR/test/SNR0/'\n",
    "id = 'F01_050C0103_BTH.pt'\n",
    "noisy_path = root + 'noisy/' + id \n",
    "estim_path = root + 'estimated_speech/' + id \n",
    "noise_path = root + 'estimated_noise/' + id"
   ]
  },
  {
   "cell_type": "code",
   "execution_count": 12,
   "id": "a89a96ff-a50f-4cb9-bfe3-94b280557ea8",
   "metadata": {},
   "outputs": [],
   "source": [
    "T = 80\n",
    "device = 'cpu'"
   ]
  },
  {
   "cell_type": "code",
   "execution_count": 13,
   "id": "a5de824e-5d3c-4b51-bb9e-02bde9fb9267",
   "metadata": {},
   "outputs": [
    {
     "name": "stdout",
     "output_type": "stream",
     "text": [
      "torch.Size([1, 513, 80, 2])\n",
      "torch.Size([1, 513, 80, 2])\n",
      "torch.Size([1, 513, 80, 2])\n",
      "torch.Size([1, 3, 513, 80, 2])\n"
     ]
    }
   ],
   "source": [
    "\n",
    "\n",
    "noisy = torch.load(noisy_path)\n",
    "estim = torch.load(estim_path)\n",
    "noise = torch.load(noise_path)\n",
    "\n",
    "idx_s = np.random.randint(noisy.shape[1]-T)\n",
    "\n",
    "noisy = noisy[:,idx_s:idx_s+T,:]\n",
    "estim = estim[:,idx_s:idx_s+T,:]\n",
    "noise = noise[:,idx_s:idx_s+T,:]\n",
    "\n",
    "noisy = torch.unsqueeze(noisy,0)\n",
    "estim = torch.unsqueeze(estim,0)\n",
    "noise = torch.unsqueeze(noise,0)\n",
    "\n",
    "print(noisy.shape)\n",
    "print(estim.shape)\n",
    "print(noise.shape)\n",
    "\n",
    "input = torch.stack([noisy,estim,noise],1)\n",
    "print(input.shape)"
   ]
  },
  {
   "cell_type": "code",
   "execution_count": 17,
   "id": "4eb115c9-8606-402b-9dc0-5e297a8e442b",
   "metadata": {},
   "outputs": [
    {
     "name": "stdout",
     "output_type": "stream",
     "text": [
      "\n"
     ]
    }
   ],
   "source": [
    "model = DCUNET().to(device)\n",
    "model.eval()"
   ]
  },
  {
   "cell_type": "code",
   "execution_count": 18,
   "id": "9c82ceac-8314-480f-9f0d-6441c6ddb74d",
   "metadata": {},
   "outputs": [
    {
     "ename": "SyntaxError",
     "evalue": "invalid syntax (<ipython-input-18-18377671e133>, line 1)",
     "output_type": "error",
     "traceback": [
      "\u001b[0;36m  File \u001b[0;32m\"<ipython-input-18-18377671e133>\"\u001b[0;36m, line \u001b[0;32m1\u001b[0m\n\u001b[0;31m    def test\u001b[0m\n\u001b[0m            ^\u001b[0m\n\u001b[0;31mSyntaxError\u001b[0m\u001b[0;31m:\u001b[0m invalid syntax\n"
     ]
    }
   ],
   "source": [
    "def test_model(m,chkpt,data,device):\n",
    "    model.load_state_dict(torch.load(chkpt), map_location=device)\n",
    "    mask_r,mask_i = m(data)\n",
    "    enhance_r = data[:,0,:,:,0]*mask_r\n",
    "    enhance_i = data[:,0,:,:,1]*mask_i\n",
    "    enhance_r = enhance_r.unsqueeze(3)\n",
    "    enhance_i = enhance_i.unsqueeze(3)\n",
    "    enhance_spec = torch.cat((enhance_r,enhance_i),3)"
   ]
  },
  {
   "cell_type": "code",
   "execution_count": null,
   "id": "9f994672-9e74-432e-846f-7e08fa26a240",
   "metadata": {},
   "outputs": [],
   "source": []
  }
 ],
 "metadata": {
  "kernelspec": {
   "display_name": "Python 3",
   "language": "python",
   "name": "python3"
  },
  "language_info": {
   "codemirror_mode": {
    "name": "ipython",
    "version": 3
   },
   "file_extension": ".py",
   "mimetype": "text/x-python",
   "name": "python",
   "nbconvert_exporter": "python",
   "pygments_lexer": "ipython3",
   "version": "3.8.0"
  }
 },
 "nbformat": 4,
 "nbformat_minor": 5
}
