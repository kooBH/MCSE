{
 "cells": [
  {
   "cell_type": "code",
   "execution_count": 2,
   "id": "ca92d75e-c62c-4af0-849b-157957c2b7a6",
   "metadata": {},
   "outputs": [],
   "source": [
    "from utils.SISDR import SDR\n",
    "from utils.hparams import HParam\n",
    "from dataset.DatasetDCUNET import DatasetDCUNET"
   ]
  },
  {
   "cell_type": "code",
   "execution_count": null,
   "id": "4d5277d6-2278-4a09-95d4-9aecf486fb14",
   "metadata": {},
   "outputs": [],
   "source": [
    "prac_"
   ]
  }
 ],
 "metadata": {
  "kernelspec": {
   "display_name": "Python 3",
   "language": "python",
   "name": "python3"
  },
  "language_info": {
   "codemirror_mode": {
    "name": "ipython",
    "version": 3
   },
   "file_extension": ".py",
   "mimetype": "text/x-python",
   "name": "python",
   "nbconvert_exporter": "python",
   "pygments_lexer": "ipython3",
   "version": "3.8.0"
  }
 },
 "nbformat": 4,
 "nbformat_minor": 5
}
