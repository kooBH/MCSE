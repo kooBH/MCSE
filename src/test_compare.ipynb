{
 "cells": [
  {
   "cell_type": "code",
   "execution_count": 18,
   "id": "fcff7138-caf7-4d49-b241-d0c9eda09ec3",
   "metadata": {},
   "outputs": [],
   "source": [
    "import torch\n",
    "import os\n",
    "import torchaudio"
   ]
  },
  {
   "cell_type": "code",
   "execution_count": 16,
   "id": "b662cbe8-bc75-44de-bc93-be85562ed76a",
   "metadata": {},
   "outputs": [],
   "source": [
    "n_fft=1024\n",
    "window=torch.hann_window(window_length=int(n_fft), periodic=True, dtype=None, layout=torch.strided, device=None, requires_grad=False)"
   ]
  },
  {
   "cell_type": "code",
   "execution_count": 12,
   "id": "3a1563e1-aca1-4b04-ad24-f4e51876797a",
   "metadata": {},
   "outputs": [],
   "source": [
    "root = \"/home/data/kbh/MCSE/CGMM_RLS_MPDR/test/SNR-7/\"\n",
    "target = \"M03_051C010J_BTH\""
   ]
  },
  {
   "cell_type": "code",
   "execution_count": 29,
   "id": "42777e36-8280-4c49-98ad-6fe8937d06ba",
   "metadata": {},
   "outputs": [],
   "source": [
    "noisy = torch.load(os.path.join(root,\"noisy\",target+\".pt\"))\n",
    "estim = torch.load(os.path.join(root,\"estimated_speech\",target+\".pt\"))\n",
    "noise = torch.load(os.path.join(root,\"estimated_noise\",target+\".pt\"))"
   ]
  },
  {
   "cell_type": "code",
   "execution_count": 30,
   "id": "8d3fd3f5-afe7-484b-a32d-c2f5b6055e20",
   "metadata": {},
   "outputs": [
    {
     "name": "stdout",
     "output_type": "stream",
     "text": [
      "torch.Size([513, 565, 2])\n"
     ]
    }
   ],
   "source": [
    "print(noisy.shape)"
   ]
  },
  {
   "cell_type": "code",
   "execution_count": 32,
   "id": "4726f7db-c2f8-42ee-83c9-1052038f821f",
   "metadata": {},
   "outputs": [
    {
     "name": "stdout",
     "output_type": "stream",
     "text": [
      "torch.Size([1, 144384])\n"
     ]
    }
   ],
   "source": [
    "wav_output = torch.istft(noisy, n_fft, hop_length=None, win_length=None, window=window, center=True, normalized=False, onesided=None, length=None, return_complex=False)\n",
    "wav_output = torch.unsqueeze(wav_output,0)\n",
    "print(wav_output.shape)"
   ]
  },
  {
   "cell_type": "code",
   "execution_count": 33,
   "id": "ed3b8e93-58a0-46de-848e-51599d546574",
   "metadata": {},
   "outputs": [],
   "source": [
    "torchaudio.save('output.wav',src=wav_output,sample_rate=16000,bits_per_sample=16)"
   ]
  },
  {
   "cell_type": "code",
   "execution_count": null,
   "id": "ba972bd2-804a-4991-9163-e3bd8177f91f",
   "metadata": {},
   "outputs": [],
   "source": []
  }
 ],
 "metadata": {
  "kernelspec": {
   "display_name": "Python 3 (ipykernel)",
   "language": "python",
   "name": "python3"
  },
  "language_info": {
   "codemirror_mode": {
    "name": "ipython",
    "version": 3
   },
   "file_extension": ".py",
   "mimetype": "text/x-python",
   "name": "python",
   "nbconvert_exporter": "python",
   "pygments_lexer": "ipython3",
   "version": "3.9.6"
  }
 },
 "nbformat": 4,
 "nbformat_minor": 5
}
