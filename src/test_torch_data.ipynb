{
 "cells": [
  {
   "cell_type": "code",
   "execution_count": 1,
   "metadata": {},
   "outputs": [],
   "source": [
    "import numpy as np\n",
    "import torch"
   ]
  },
  {
   "cell_type": "code",
   "execution_count": null,
   "metadata": {},
   "outputs": [],
   "source": [
    "npy_noisy = np.load('../feature/noisy.npy')\n",
    "npy_clean = np.load('../feature/clean.npy')"
   ]
  },
  {
   "cell_type": "code",
   "execution_count": null,
   "metadata": {},
   "outputs": [],
   "source": [
    "display(npy_noisy.shape)\n",
    "display(type(npy_noisy))"
   ]
  },
  {
   "cell_type": "code",
   "execution_count": null,
   "metadata": {},
   "outputs": [],
   "source": [
    "torch_noisy = torch.from_numpy(npy_noisy)\n",
    "torch_clean = torch.from_numpy(npy_clean)"
   ]
  },
  {
   "cell_type": "code",
   "execution_count": null,
   "metadata": {},
   "outputs": [],
   "source": [
    "display(torch_noisy.shape)\n",
    "display(type(torch_noisy))"
   ]
  },
  {
   "cell_type": "code",
   "execution_count": null,
   "metadata": {},
   "outputs": [],
   "source": [
    "data = torch.stack((torch_noisy,torch_clean),0)"
   ]
  },
  {
   "cell_type": "code",
   "execution_count": null,
   "metadata": {},
   "outputs": [],
   "source": [
    "display(data.shape)"
   ]
  },
  {
   "cell_type": "code",
   "execution_count": null,
   "metadata": {},
   "outputs": [],
   "source": [
    "m = torch.nn.Linear()"
   ]
  },
  {
   "cell_type": "markdown",
   "metadata": {},
   "source": [
    "# stack"
   ]
  },
  {
   "cell_type": "code",
   "execution_count": 13,
   "metadata": {},
   "outputs": [
    {
     "name": "stdout",
     "output_type": "stream",
     "text": [
      "tensor([[0.4558],\n",
      "        [0.7885],\n",
      "        [0.5707]])\n",
      "tensor([[0.4299],\n",
      "        [0.2746],\n",
      "        [0.0755]])\n",
      "torch.Size([3, 1, 2])\n",
      "tensor([[[0.4558, 0.4299]],\n",
      "\n",
      "        [[0.7885, 0.2746]],\n",
      "\n",
      "        [[0.5707, 0.0755]]])\n"
     ]
    }
   ],
   "source": [
    "r = torch.rand(3,1)\n",
    "i = torch.rand(3,1)\n",
    "print(r)\n",
    "print(i)\n",
    "y = torch.stack([r,i],-1)\n",
    "print(y.shape)\n",
    "print(y)"
   ]
  },
  {
   "cell_type": "markdown",
   "metadata": {},
   "source": [
    "# Reshape [B,C,F,T] -> [B,T,F*C]"
   ]
  },
  {
   "cell_type": "code",
   "execution_count": 21,
   "metadata": {},
   "outputs": [
    {
     "name": "stdout",
     "output_type": "stream",
     "text": [
      "torch.Size([2, 3, 4, 5])\n",
      "tensor([[[[0.6110, 0.8286, 0.3255, 0.1490, 0.4538],\n",
      "          [0.4805, 0.4417, 0.8829, 0.2148, 0.0257],\n",
      "          [0.5246, 0.6687, 0.5311, 0.0602, 0.5969],\n",
      "          [0.8480, 0.4930, 0.4059, 0.2005, 0.4084]],\n",
      "\n",
      "         [[0.4185, 0.8744, 0.6209, 0.8529, 0.6595],\n",
      "          [0.4300, 0.9398, 0.7861, 0.4252, 0.2797],\n",
      "          [0.6086, 0.0241, 0.5443, 0.0700, 0.8692],\n",
      "          [0.8467, 0.4646, 0.3098, 0.3242, 0.5100]],\n",
      "\n",
      "         [[0.0115, 0.0820, 0.9776, 0.1290, 0.2098],\n",
      "          [0.5951, 0.0589, 0.0427, 0.5044, 0.2110],\n",
      "          [0.8659, 0.9476, 0.2193, 0.6886, 0.6618],\n",
      "          [0.2234, 0.2734, 0.6903, 0.8710, 0.6563]]],\n",
      "\n",
      "\n",
      "        [[[0.1061, 0.9955, 0.5710, 0.5230, 0.9818],\n",
      "          [0.5171, 0.0823, 0.1672, 0.6300, 0.1782],\n",
      "          [0.5363, 0.8298, 0.6234, 0.7156, 0.6168],\n",
      "          [0.8795, 0.5389, 0.4069, 0.0766, 0.6461]],\n",
      "\n",
      "         [[0.6127, 0.7275, 0.7547, 0.8454, 0.9408],\n",
      "          [0.6418, 0.7803, 0.2087, 0.2863, 0.9840],\n",
      "          [0.6079, 0.7119, 0.6680, 0.6675, 0.0923],\n",
      "          [0.9094, 0.1636, 0.9145, 0.0241, 0.8257]],\n",
      "\n",
      "         [[0.7491, 0.2154, 0.1477, 0.5134, 0.2843],\n",
      "          [0.1153, 0.1604, 0.1256, 0.9583, 0.0500],\n",
      "          [0.7752, 0.4458, 0.3242, 0.0060, 0.6570],\n",
      "          [0.5974, 0.7786, 0.5121, 0.8236, 0.1811]]]])\n",
      "torch.Size([2, 5, 12])\n",
      "tensor([[[0.6110, 0.4805, 0.5246, 0.8480, 0.4185, 0.4300, 0.6086, 0.8467,\n",
      "          0.0115, 0.5951, 0.8659, 0.2234],\n",
      "         [0.8286, 0.4417, 0.6687, 0.4930, 0.8744, 0.9398, 0.0241, 0.4646,\n",
      "          0.0820, 0.0589, 0.9476, 0.2734],\n",
      "         [0.3255, 0.8829, 0.5311, 0.4059, 0.6209, 0.7861, 0.5443, 0.3098,\n",
      "          0.9776, 0.0427, 0.2193, 0.6903],\n",
      "         [0.1490, 0.2148, 0.0602, 0.2005, 0.8529, 0.4252, 0.0700, 0.3242,\n",
      "          0.1290, 0.5044, 0.6886, 0.8710],\n",
      "         [0.4538, 0.0257, 0.5969, 0.4084, 0.6595, 0.2797, 0.8692, 0.5100,\n",
      "          0.2098, 0.2110, 0.6618, 0.6563]],\n",
      "\n",
      "        [[0.1061, 0.5171, 0.5363, 0.8795, 0.6127, 0.6418, 0.6079, 0.9094,\n",
      "          0.7491, 0.1153, 0.7752, 0.5974],\n",
      "         [0.9955, 0.0823, 0.8298, 0.5389, 0.7275, 0.7803, 0.7119, 0.1636,\n",
      "          0.2154, 0.1604, 0.4458, 0.7786],\n",
      "         [0.5710, 0.1672, 0.6234, 0.4069, 0.7547, 0.2087, 0.6680, 0.9145,\n",
      "          0.1477, 0.1256, 0.3242, 0.5121],\n",
      "         [0.5230, 0.6300, 0.7156, 0.0766, 0.8454, 0.2863, 0.6675, 0.0241,\n",
      "          0.5134, 0.9583, 0.0060, 0.8236],\n",
      "         [0.9818, 0.1782, 0.6168, 0.6461, 0.9408, 0.9840, 0.0923, 0.8257,\n",
      "          0.2843, 0.0500, 0.6570, 0.1811]]])\n"
     ]
    }
   ],
   "source": [
    "B = 2\n",
    "C = 3\n",
    "F = 4\n",
    "T = 5\n",
    "x = torch.rand((B,C,F,T))\n",
    "print(x.shape)\n",
    "print(x)\n",
    "z = torch.reshape(x,(B,C*F,T))\n",
    "z = z.permute((0,2,1))\n",
    "print(z.shape)\n",
    "print(z)"
   ]
  },
  {
   "cell_type": "markdown",
   "metadata": {},
   "source": [
    "# DatasetDCUNET"
   ]
  },
  {
   "cell_type": "code",
   "execution_count": 1,
   "metadata": {},
   "outputs": [
    {
     "name": "stderr",
     "output_type": "stream",
     "text": [
      "/home/kbh/anaconda3/envs/dnn/lib/python3.8/site-packages/torchaudio/backend/utils.py:53: UserWarning: \"sox\" backend is being deprecated. The default backend will be changed to \"sox_io\" backend in 0.8.0 and \"sox\" backend will be removed in 0.9.0. Please migrate to \"sox_io\" backend. Please refer to https://github.com/pytorch/audio/issues/903 for the detail.\n",
      "  warnings.warn(\n"
     ]
    }
   ],
   "source": [
    "from dataset.DCUNET import DatasetDCUNET\n",
    "from utils.hparams import HParam\n",
    "from model.DCUNET import ModelDCUNET\n",
    "import torch"
   ]
  },
  {
   "cell_type": "code",
   "execution_count": 21,
   "metadata": {},
   "outputs": [],
   "source": [
    "hp = HParam('../config/default.yaml')"
   ]
  },
  {
   "cell_type": "code",
   "execution_count": 22,
   "metadata": {},
   "outputs": [],
   "source": [
    "data = DatasetDCUNET(hp.data.root+'/STFT_R',hp.data.root+'/WAV',['dt05_bus_simu'],'*.npy',num_frame=hp.model.DCUNET.num_frame)"
   ]
  },
  {
   "cell_type": "code",
   "execution_count": 23,
   "metadata": {},
   "outputs": [
    {
     "name": "stdout",
     "output_type": "stream",
     "text": [
      "torch.Size([3, 513, 80, 2])\n",
      "torch.Size([20480])\n",
      "torch.Size([20480])\n"
     ]
    }
   ],
   "source": [
    "x= data[0]\n",
    "print(x['input'].shape)\n",
    "print(x['clean'].shape)\n",
    "print(x['noisy'].shape)"
   ]
  },
  {
   "cell_type": "code",
   "execution_count": 24,
   "metadata": {},
   "outputs": [
    {
     "name": "stdout",
     "output_type": "stream",
     "text": [
      "torch.Size([1, 3, 513, 80, 2])\n"
     ]
    }
   ],
   "source": [
    "input = x['input']\n",
    "# Batch : 1\n",
    "input =torch.unsqueeze(input,0)\n",
    "print(input.shape)"
   ]
  },
  {
   "cell_type": "code",
   "execution_count": 25,
   "metadata": {},
   "outputs": [],
   "source": [
    "model = ModelDCUNET(input_channels=3)"
   ]
  },
  {
   "cell_type": "code",
   "execution_count": 26,
   "metadata": {},
   "outputs": [
    {
     "name": "stdout",
     "output_type": "stream",
     "text": [
      "torch.Size([1, 3, 513, 80, 2])\n",
      "x0 torch.Size([1, 31, 513, 80, 2])\n",
      "x1 torch.Size([1, 31, 513, 80, 2])\n",
      "x2 torch.Size([1, 62, 257, 40, 2])\n",
      "x3 torch.Size([1, 62, 129, 40, 2])\n",
      "x4 torch.Size([1, 62, 65, 20, 2])\n",
      "x5 torch.Size([1, 62, 33, 20, 2])\n",
      "x6 torch.Size([1, 62, 17, 10, 2])\n",
      "x7 torch.Size([1, 62, 9, 10, 2])\n",
      "x8 torch.Size([1, 62, 5, 5, 2])\n",
      "x9 torch.Size([1, 128, 3, 5, 2])\n",
      "encoded  torch.Size([1, 128, 3, 5, 2])\n",
      "p0, torch.Size([1, 62, 5, 5, 2]) + x9, torch.Size([1, 62, 5, 5, 2]), padding (2, 1)\n",
      "p1, torch.Size([1, 62, 9, 10, 2]) + x8, torch.Size([1, 62, 9, 10, 2]), padding (2, 1)\n",
      "p2, torch.Size([1, 62, 17, 10, 2]) + x7, torch.Size([1, 62, 17, 10, 2]), padding (2, 1)\n",
      "p3, torch.Size([1, 62, 33, 20, 2]) + x6, torch.Size([1, 62, 33, 20, 2]), padding (2, 1)\n",
      "p4, torch.Size([1, 62, 65, 20, 2]) + x5, torch.Size([1, 62, 65, 20, 2]), padding (2, 1)\n",
      "p5, torch.Size([1, 62, 129, 40, 2]) + x4, torch.Size([1, 62, 129, 40, 2]), padding (2, 1)\n",
      "p6, torch.Size([1, 62, 257, 40, 2]) + x3, torch.Size([1, 62, 257, 40, 2]), padding (3, 2)\n",
      "p7, torch.Size([1, 62, 513, 80, 2]) + x2, torch.Size([1, 31, 513, 80, 2]), padding (3, 2)\n",
      "p8, torch.Size([1, 62, 513, 80, 2]) + x1, torch.Size([1, 31, 513, 80, 2]), padding (0, 3)\n"
     ]
    }
   ],
   "source": [
    "print(input.shape)\n",
    "output = model(input)"
   ]
  },
  {
   "cell_type": "markdown",
   "metadata": {},
   "source": [
    "# DatasetFC"
   ]
  },
  {
   "cell_type": "markdown",
   "metadata": {},
   "source": [
    "+ Magnitude only ? \n",
    "+ Respectively ?     \n",
    "FC => flat  "
   ]
  },
  {
   "cell_type": "code",
   "execution_count": 1,
   "metadata": {},
   "outputs": [],
   "source": [
    "from dataset.FC import DatasetFC\n",
    "import torch.nn as nn\n",
    "from utils.hparams import HParam\n",
    "import torch\n",
    "from model.FC import ModelFC"
   ]
  },
  {
   "cell_type": "code",
   "execution_count": 2,
   "metadata": {},
   "outputs": [],
   "source": [
    "hp = HParam('../config/dnn2_t1.yaml')"
   ]
  },
  {
   "cell_type": "code",
   "execution_count": 3,
   "metadata": {},
   "outputs": [],
   "source": [
    "data = DatasetFC(hp.data.root+'/STFT_R',['dt05_bus_simu'],'*.npy')"
   ]
  },
  {
   "cell_type": "code",
   "execution_count": 4,
   "metadata": {},
   "outputs": [
    {
     "name": "stdout",
     "output_type": "stream",
     "text": [
      "ModelFC[input_size] : 10773\n"
     ]
    }
   ],
   "source": [
    "model = ModelFC(hp)"
   ]
  },
  {
   "cell_type": "code",
   "execution_count": 5,
   "metadata": {
    "scrolled": true
   },
   "outputs": [
    {
     "data": {
      "text/plain": [
       "torch.Size([10773, 2])"
      ]
     },
     "metadata": {},
     "output_type": "display_data"
    },
    {
     "data": {
      "text/plain": [
       "torch.Size([513, 2])"
      ]
     },
     "metadata": {},
     "output_type": "display_data"
    }
   ],
   "source": [
    "x = data[0]\n",
    "display(x['input'].shape)\n",
    "display(x['target'].shape)"
   ]
  },
  {
   "cell_type": "code",
   "execution_count": 6,
   "metadata": {},
   "outputs": [
    {
     "data": {
      "text/plain": [
       "torch.Size([1, 10773, 2])"
      ]
     },
     "metadata": {},
     "output_type": "display_data"
    },
    {
     "data": {
      "text/plain": [
       "torch.Size([1, 10773])"
      ]
     },
     "metadata": {},
     "output_type": "display_data"
    },
    {
     "data": {
      "text/plain": [
       "torch.Size([1, 10773])"
      ]
     },
     "metadata": {},
     "output_type": "display_data"
    }
   ],
   "source": [
    "t = torch.unsqueeze(x['input'],0)\n",
    "display(t.shape)\n",
    "y = model(t)"
   ]
  },
  {
   "cell_type": "code",
   "execution_count": 7,
   "metadata": {},
   "outputs": [
    {
     "data": {
      "text/plain": [
       "torch.Size([1, 513, 2])"
      ]
     },
     "metadata": {},
     "output_type": "display_data"
    }
   ],
   "source": [
    "display(y.shape)"
   ]
  },
  {
   "cell_type": "code",
   "execution_count": null,
   "metadata": {},
   "outputs": [],
   "source": []
  }
 ],
 "metadata": {
  "kernelspec": {
   "display_name": "Python 3",
   "language": "python",
   "name": "python3"
  },
  "language_info": {
   "codemirror_mode": {
    "name": "ipython",
    "version": 3
   },
   "file_extension": ".py",
   "mimetype": "text/x-python",
   "name": "python",
   "nbconvert_exporter": "python",
   "pygments_lexer": "ipython3",
   "version": "3.8.0"
  }
 },
 "nbformat": 4,
 "nbformat_minor": 4
}
